{
  "nbformat": 4,
  "nbformat_minor": 0,
  "metadata": {
    "colab": {
      "name": "liver_disease_group_10_random_forest.ipynb",
      "provenance": [],
      "collapsed_sections": []
    },
    "kernelspec": {
      "name": "python3",
      "display_name": "Python 3"
    }
  },
  "cells": [
    {
      "cell_type": "markdown",
      "metadata": {
        "id": "n-NCWwz6_hWu"
      },
      "source": [
        "Predicting Churn for Bank Customers (Group 10)\r\n",
        "Problem statement:\r\n",
        "https://bits-pilani.instructure.com/courses/573/assignments/2976\r\n",
        "\r\n",
        "Group 10 - Memebers:\r\n",
        "2019AC04037 : Anoop Monish CH\r\n",
        "2019AC04020 : Srejith Ramesh\r\n",
        "2019AC04014 : Shreyas"
      ]
    },
    {
      "cell_type": "markdown",
      "metadata": {
        "id": "HUIly789_6xs"
      },
      "source": [
        "## Import Libraries \r\n",
        "\r\n",
        "For this assignment , We are using basic Python data science libraries. Following are the package specfication with their version numbers. \r\n",
        "\r\n",
        "\r\n",
        "| Package    | Description                                                                                                                | Version      |\r\n",
        "|------------|----------------------------------------------------------------------------------------------------------------------------|--------------|\r\n",
        "| Pandas     | Used for Data preprocessing and manipulation                                                                               | 1.1.2        |\r\n",
        "| Numpy      | Used for numeric calculations of the data                                                                                  | 1.18.5       |\r\n",
        "| Sklearn    | Used for creating models and encoding/feature scaling of data                                                              | 0.22.2.post1 |\r\n",
        "| Statsmodel | Used for creation of Logistic Regression (OLS model) for P-value calculations and Statistical summaries                    | 0.10.2       |\r\n",
        "| Matplotlib | Used for plot creation and visualization (This library is imported within Pandas , Since we're using Pandas plot functions | 3.2.2        |"
      ]
    },
    {
      "cell_type": "code",
      "metadata": {
        "id": "g2iYQ2B5_7sc"
      },
      "source": [
        "# Basic Imports\r\n",
        "import pandas as pd\r\n",
        "import numpy as np\r\n",
        "import sklearn\r\n",
        "from sklearn.preprocessing import MinMaxScaler, StandardScaler\r\n",
        "from sklearn.ensemble import RandomForestClassifier\r\n",
        "from sklearn.metrics import accuracy_score, confusion_matrix, precision_score, recall_score\r\n",
        "from sklearn.model_selection import RandomizedSearchCV\r\n",
        "from sklearn.model_selection import train_test_split\r\n",
        "from sklearn.feature_selection import SelectKBest, f_classif\r\n",
        "from sklearn.feature_selection import chi2\r\n",
        "from numpy import set_printoptions\r\n",
        "from sklearn import metrics\r\n",
        "import statsmodels.api as sm\r\n",
        "from scipy import stats\r\n",
        "import matplotlib.pyplot as plt\r\n",
        "import seaborn as sns"
      ],
      "execution_count": null,
      "outputs": []
    },
    {
      "cell_type": "code",
      "metadata": {
        "id": "MmMZokN_Aud9"
      },
      "source": [
        "# Max rows to display\r\n",
        "pd.options.display.max_rows = 15\r\n",
        "\r\n",
        "# Print plots inline\r\n",
        "%matplotlib inline"
      ],
      "execution_count": null,
      "outputs": []
    },
    {
      "cell_type": "code",
      "metadata": {
        "id": "0kVwjLUmA0ky"
      },
      "source": [
        "url = 'https://raw.githubusercontent.com/Srejith/liver_diseaese/main/liver_disease_1.csv'\r\n",
        "raw_data = pd.read_csv(url)"
      ],
      "execution_count": null,
      "outputs": []
    },
    {
      "cell_type": "code",
      "metadata": {
        "colab": {
          "base_uri": "https://localhost:8080/"
        },
        "id": "8R6heNObDF8X",
        "outputId": "8d8c1406-2143-405e-fbef-a10f1838c7bd"
      },
      "source": [
        "# Summary of Dataset\r\n",
        "raw_data.info()"
      ],
      "execution_count": null,
      "outputs": [
        {
          "output_type": "stream",
          "text": [
            "<class 'pandas.core.frame.DataFrame'>\n",
            "RangeIndex: 583 entries, 0 to 582\n",
            "Data columns (total 10 columns):\n",
            " #   Column                      Non-Null Count  Dtype  \n",
            "---  ------                      --------------  -----  \n",
            " 0   Age                         583 non-null    int64  \n",
            " 1   Total_Bilirubin             583 non-null    float64\n",
            " 2   Direct_Bilirubin            583 non-null    float64\n",
            " 3   Alkaline_Phosphotase        583 non-null    int64  \n",
            " 4   Alamine_Aminotransferase    583 non-null    int64  \n",
            " 5   Aspartate_Aminotransferase  583 non-null    int64  \n",
            " 6   Total_Protiens              583 non-null    float64\n",
            " 7   Albumin                     583 non-null    float64\n",
            " 8   Albumin_and_Globulin_Ratio  579 non-null    float64\n",
            " 9   Dataset                     583 non-null    object \n",
            "dtypes: float64(5), int64(4), object(1)\n",
            "memory usage: 45.7+ KB\n"
          ],
          "name": "stdout"
        }
      ]
    },
    {
      "cell_type": "code",
      "metadata": {
        "colab": {
          "base_uri": "https://localhost:8080/",
          "height": 204
        },
        "id": "kpTIY8tQB5ZQ",
        "outputId": "d0d79b87-bfb4-40a4-a667-791adf132361"
      },
      "source": [
        "raw_data.head()"
      ],
      "execution_count": null,
      "outputs": [
        {
          "output_type": "execute_result",
          "data": {
            "text/html": [
              "<div>\n",
              "<style scoped>\n",
              "    .dataframe tbody tr th:only-of-type {\n",
              "        vertical-align: middle;\n",
              "    }\n",
              "\n",
              "    .dataframe tbody tr th {\n",
              "        vertical-align: top;\n",
              "    }\n",
              "\n",
              "    .dataframe thead th {\n",
              "        text-align: right;\n",
              "    }\n",
              "</style>\n",
              "<table border=\"1\" class=\"dataframe\">\n",
              "  <thead>\n",
              "    <tr style=\"text-align: right;\">\n",
              "      <th></th>\n",
              "      <th>Age</th>\n",
              "      <th>Total_Bilirubin</th>\n",
              "      <th>Direct_Bilirubin</th>\n",
              "      <th>Alkaline_Phosphotase</th>\n",
              "      <th>Alamine_Aminotransferase</th>\n",
              "      <th>Aspartate_Aminotransferase</th>\n",
              "      <th>Total_Protiens</th>\n",
              "      <th>Albumin</th>\n",
              "      <th>Albumin_and_Globulin_Ratio</th>\n",
              "      <th>Dataset</th>\n",
              "    </tr>\n",
              "  </thead>\n",
              "  <tbody>\n",
              "    <tr>\n",
              "      <th>0</th>\n",
              "      <td>65</td>\n",
              "      <td>0.7</td>\n",
              "      <td>0.1</td>\n",
              "      <td>187</td>\n",
              "      <td>16</td>\n",
              "      <td>18</td>\n",
              "      <td>6.8</td>\n",
              "      <td>3.3</td>\n",
              "      <td>0.90</td>\n",
              "      <td>Yes</td>\n",
              "    </tr>\n",
              "    <tr>\n",
              "      <th>1</th>\n",
              "      <td>62</td>\n",
              "      <td>10.9</td>\n",
              "      <td>5.5</td>\n",
              "      <td>699</td>\n",
              "      <td>64</td>\n",
              "      <td>100</td>\n",
              "      <td>7.5</td>\n",
              "      <td>3.2</td>\n",
              "      <td>0.74</td>\n",
              "      <td>Yes</td>\n",
              "    </tr>\n",
              "    <tr>\n",
              "      <th>2</th>\n",
              "      <td>62</td>\n",
              "      <td>7.3</td>\n",
              "      <td>4.1</td>\n",
              "      <td>490</td>\n",
              "      <td>60</td>\n",
              "      <td>68</td>\n",
              "      <td>7.0</td>\n",
              "      <td>3.3</td>\n",
              "      <td>0.89</td>\n",
              "      <td>Yes</td>\n",
              "    </tr>\n",
              "    <tr>\n",
              "      <th>3</th>\n",
              "      <td>58</td>\n",
              "      <td>1.0</td>\n",
              "      <td>0.4</td>\n",
              "      <td>182</td>\n",
              "      <td>14</td>\n",
              "      <td>20</td>\n",
              "      <td>6.8</td>\n",
              "      <td>3.4</td>\n",
              "      <td>1.00</td>\n",
              "      <td>Yes</td>\n",
              "    </tr>\n",
              "    <tr>\n",
              "      <th>4</th>\n",
              "      <td>72</td>\n",
              "      <td>3.9</td>\n",
              "      <td>2.0</td>\n",
              "      <td>195</td>\n",
              "      <td>27</td>\n",
              "      <td>59</td>\n",
              "      <td>7.3</td>\n",
              "      <td>2.4</td>\n",
              "      <td>0.40</td>\n",
              "      <td>Yes</td>\n",
              "    </tr>\n",
              "  </tbody>\n",
              "</table>\n",
              "</div>"
            ],
            "text/plain": [
              "   Age  Total_Bilirubin  ...  Albumin_and_Globulin_Ratio  Dataset\n",
              "0   65              0.7  ...                        0.90      Yes\n",
              "1   62             10.9  ...                        0.74      Yes\n",
              "2   62              7.3  ...                        0.89      Yes\n",
              "3   58              1.0  ...                        1.00      Yes\n",
              "4   72              3.9  ...                        0.40      Yes\n",
              "\n",
              "[5 rows x 10 columns]"
            ]
          },
          "metadata": {
            "tags": []
          },
          "execution_count": 350
        }
      ]
    },
    {
      "cell_type": "markdown",
      "metadata": {
        "id": "By4JnaaOjHCJ"
      },
      "source": [
        "# DATA CLEANING"
      ]
    },
    {
      "cell_type": "markdown",
      "metadata": {
        "id": "gClZtfg_jLOw"
      },
      "source": [
        "**Null value - Handling**"
      ]
    },
    {
      "cell_type": "code",
      "metadata": {
        "colab": {
          "base_uri": "https://localhost:8080/",
          "height": 359
        },
        "id": "7Nt5px-3C2eg",
        "outputId": "7a480399-6c0c-4238-9b4d-afcd6ef89315"
      },
      "source": [
        "((raw_data.shape[0] - raw_data.isnull().sum())/raw_data.shape[0]).to_frame(name = 'Coverage (%)') * 100"
      ],
      "execution_count": null,
      "outputs": [
        {
          "output_type": "execute_result",
          "data": {
            "text/html": [
              "<div>\n",
              "<style scoped>\n",
              "    .dataframe tbody tr th:only-of-type {\n",
              "        vertical-align: middle;\n",
              "    }\n",
              "\n",
              "    .dataframe tbody tr th {\n",
              "        vertical-align: top;\n",
              "    }\n",
              "\n",
              "    .dataframe thead th {\n",
              "        text-align: right;\n",
              "    }\n",
              "</style>\n",
              "<table border=\"1\" class=\"dataframe\">\n",
              "  <thead>\n",
              "    <tr style=\"text-align: right;\">\n",
              "      <th></th>\n",
              "      <th>Coverage (%)</th>\n",
              "    </tr>\n",
              "  </thead>\n",
              "  <tbody>\n",
              "    <tr>\n",
              "      <th>Age</th>\n",
              "      <td>100.000000</td>\n",
              "    </tr>\n",
              "    <tr>\n",
              "      <th>Total_Bilirubin</th>\n",
              "      <td>100.000000</td>\n",
              "    </tr>\n",
              "    <tr>\n",
              "      <th>Direct_Bilirubin</th>\n",
              "      <td>100.000000</td>\n",
              "    </tr>\n",
              "    <tr>\n",
              "      <th>Alkaline_Phosphotase</th>\n",
              "      <td>100.000000</td>\n",
              "    </tr>\n",
              "    <tr>\n",
              "      <th>Alamine_Aminotransferase</th>\n",
              "      <td>100.000000</td>\n",
              "    </tr>\n",
              "    <tr>\n",
              "      <th>Aspartate_Aminotransferase</th>\n",
              "      <td>100.000000</td>\n",
              "    </tr>\n",
              "    <tr>\n",
              "      <th>Total_Protiens</th>\n",
              "      <td>100.000000</td>\n",
              "    </tr>\n",
              "    <tr>\n",
              "      <th>Albumin</th>\n",
              "      <td>100.000000</td>\n",
              "    </tr>\n",
              "    <tr>\n",
              "      <th>Albumin_and_Globulin_Ratio</th>\n",
              "      <td>99.313894</td>\n",
              "    </tr>\n",
              "    <tr>\n",
              "      <th>Dataset</th>\n",
              "      <td>100.000000</td>\n",
              "    </tr>\n",
              "  </tbody>\n",
              "</table>\n",
              "</div>"
            ],
            "text/plain": [
              "                            Coverage (%)\n",
              "Age                           100.000000\n",
              "Total_Bilirubin               100.000000\n",
              "Direct_Bilirubin              100.000000\n",
              "Alkaline_Phosphotase          100.000000\n",
              "Alamine_Aminotransferase      100.000000\n",
              "Aspartate_Aminotransferase    100.000000\n",
              "Total_Protiens                100.000000\n",
              "Albumin                       100.000000\n",
              "Albumin_and_Globulin_Ratio     99.313894\n",
              "Dataset                       100.000000"
            ]
          },
          "metadata": {
            "tags": []
          },
          "execution_count": 351
        }
      ]
    },
    {
      "cell_type": "markdown",
      "metadata": {
        "id": "KYw5eVSIDe3b"
      },
      "source": [
        "From the above we understand there is null values for albumin_and_globulin_ration. We need to perform null value handling for this. "
      ]
    },
    {
      "cell_type": "markdown",
      "metadata": {
        "id": "G7TUJhExDn0g"
      },
      "source": [
        ""
      ]
    },
    {
      "cell_type": "code",
      "metadata": {
        "id": "hQO6E25LDKQw"
      },
      "source": [
        "albumin_null = pd.isnull(raw_data[\"Albumin_and_Globulin_Ratio\"]) "
      ],
      "execution_count": null,
      "outputs": []
    },
    {
      "cell_type": "code",
      "metadata": {
        "colab": {
          "base_uri": "https://localhost:8080/",
          "height": 173
        },
        "id": "xoMjTfMRJaLl",
        "outputId": "7d591d0c-93f8-4841-db9a-116d3442885b"
      },
      "source": [
        "raw_data[albumin_null]"
      ],
      "execution_count": null,
      "outputs": [
        {
          "output_type": "execute_result",
          "data": {
            "text/html": [
              "<div>\n",
              "<style scoped>\n",
              "    .dataframe tbody tr th:only-of-type {\n",
              "        vertical-align: middle;\n",
              "    }\n",
              "\n",
              "    .dataframe tbody tr th {\n",
              "        vertical-align: top;\n",
              "    }\n",
              "\n",
              "    .dataframe thead th {\n",
              "        text-align: right;\n",
              "    }\n",
              "</style>\n",
              "<table border=\"1\" class=\"dataframe\">\n",
              "  <thead>\n",
              "    <tr style=\"text-align: right;\">\n",
              "      <th></th>\n",
              "      <th>Age</th>\n",
              "      <th>Total_Bilirubin</th>\n",
              "      <th>Direct_Bilirubin</th>\n",
              "      <th>Alkaline_Phosphotase</th>\n",
              "      <th>Alamine_Aminotransferase</th>\n",
              "      <th>Aspartate_Aminotransferase</th>\n",
              "      <th>Total_Protiens</th>\n",
              "      <th>Albumin</th>\n",
              "      <th>Albumin_and_Globulin_Ratio</th>\n",
              "      <th>Dataset</th>\n",
              "    </tr>\n",
              "  </thead>\n",
              "  <tbody>\n",
              "    <tr>\n",
              "      <th>209</th>\n",
              "      <td>45</td>\n",
              "      <td>0.9</td>\n",
              "      <td>0.3</td>\n",
              "      <td>189</td>\n",
              "      <td>23</td>\n",
              "      <td>33</td>\n",
              "      <td>6.6</td>\n",
              "      <td>3.9</td>\n",
              "      <td>NaN</td>\n",
              "      <td>Yes</td>\n",
              "    </tr>\n",
              "    <tr>\n",
              "      <th>241</th>\n",
              "      <td>51</td>\n",
              "      <td>0.8</td>\n",
              "      <td>0.2</td>\n",
              "      <td>230</td>\n",
              "      <td>24</td>\n",
              "      <td>46</td>\n",
              "      <td>6.5</td>\n",
              "      <td>3.1</td>\n",
              "      <td>NaN</td>\n",
              "      <td>Yes</td>\n",
              "    </tr>\n",
              "    <tr>\n",
              "      <th>253</th>\n",
              "      <td>35</td>\n",
              "      <td>0.6</td>\n",
              "      <td>0.2</td>\n",
              "      <td>180</td>\n",
              "      <td>12</td>\n",
              "      <td>15</td>\n",
              "      <td>5.2</td>\n",
              "      <td>2.7</td>\n",
              "      <td>NaN</td>\n",
              "      <td>No</td>\n",
              "    </tr>\n",
              "    <tr>\n",
              "      <th>312</th>\n",
              "      <td>27</td>\n",
              "      <td>1.3</td>\n",
              "      <td>0.6</td>\n",
              "      <td>106</td>\n",
              "      <td>25</td>\n",
              "      <td>54</td>\n",
              "      <td>8.5</td>\n",
              "      <td>4.8</td>\n",
              "      <td>NaN</td>\n",
              "      <td>No</td>\n",
              "    </tr>\n",
              "  </tbody>\n",
              "</table>\n",
              "</div>"
            ],
            "text/plain": [
              "     Age  Total_Bilirubin  ...  Albumin_and_Globulin_Ratio  Dataset\n",
              "209   45              0.9  ...                         NaN      Yes\n",
              "241   51              0.8  ...                         NaN      Yes\n",
              "253   35              0.6  ...                         NaN       No\n",
              "312   27              1.3  ...                         NaN       No\n",
              "\n",
              "[4 rows x 10 columns]"
            ]
          },
          "metadata": {
            "tags": []
          },
          "execution_count": 353
        }
      ]
    },
    {
      "cell_type": "code",
      "metadata": {
        "id": "oXYrNwmbJe4r"
      },
      "source": [
        "raw_data[\"Albumin_and_Globulin_Ratio\"].fillna((raw_data[\"Albumin_and_Globulin_Ratio\"].mean()), inplace=True)"
      ],
      "execution_count": null,
      "outputs": []
    },
    {
      "cell_type": "code",
      "metadata": {
        "id": "7M-lm1nfKqhV"
      },
      "source": [
        "albumin_null = pd.isnull(raw_data[\"Albumin_and_Globulin_Ratio\"]) "
      ],
      "execution_count": null,
      "outputs": []
    },
    {
      "cell_type": "code",
      "metadata": {
        "colab": {
          "base_uri": "https://localhost:8080/",
          "height": 49
        },
        "id": "R-xmsphQKwZl",
        "outputId": "4b0e9872-0046-4899-f019-80d881155157"
      },
      "source": [
        "raw_data[albumin_null]"
      ],
      "execution_count": null,
      "outputs": [
        {
          "output_type": "execute_result",
          "data": {
            "text/html": [
              "<div>\n",
              "<style scoped>\n",
              "    .dataframe tbody tr th:only-of-type {\n",
              "        vertical-align: middle;\n",
              "    }\n",
              "\n",
              "    .dataframe tbody tr th {\n",
              "        vertical-align: top;\n",
              "    }\n",
              "\n",
              "    .dataframe thead th {\n",
              "        text-align: right;\n",
              "    }\n",
              "</style>\n",
              "<table border=\"1\" class=\"dataframe\">\n",
              "  <thead>\n",
              "    <tr style=\"text-align: right;\">\n",
              "      <th></th>\n",
              "      <th>Age</th>\n",
              "      <th>Total_Bilirubin</th>\n",
              "      <th>Direct_Bilirubin</th>\n",
              "      <th>Alkaline_Phosphotase</th>\n",
              "      <th>Alamine_Aminotransferase</th>\n",
              "      <th>Aspartate_Aminotransferase</th>\n",
              "      <th>Total_Protiens</th>\n",
              "      <th>Albumin</th>\n",
              "      <th>Albumin_and_Globulin_Ratio</th>\n",
              "      <th>Dataset</th>\n",
              "    </tr>\n",
              "  </thead>\n",
              "  <tbody>\n",
              "  </tbody>\n",
              "</table>\n",
              "</div>"
            ],
            "text/plain": [
              "Empty DataFrame\n",
              "Columns: [Age, Total_Bilirubin, Direct_Bilirubin, Alkaline_Phosphotase, Alamine_Aminotransferase, Aspartate_Aminotransferase, Total_Protiens, Albumin, Albumin_and_Globulin_Ratio, Dataset]\n",
              "Index: []"
            ]
          },
          "metadata": {
            "tags": []
          },
          "execution_count": 356
        }
      ]
    },
    {
      "cell_type": "markdown",
      "metadata": {
        "id": "t5_IOKVVLDb8"
      },
      "source": [
        "All the null values have been replaced with the mean of the rest of the ratio values "
      ]
    },
    {
      "cell_type": "markdown",
      "metadata": {
        "id": "OoEBJ-hjjN4G"
      },
      "source": [
        "**Data Cleaning - Duplicates**"
      ]
    },
    {
      "cell_type": "code",
      "metadata": {
        "colab": {
          "base_uri": "https://localhost:8080/"
        },
        "id": "pjP5j5iIjQYC",
        "outputId": "4b25b5fc-2673-4a59-f185-b3420e82d0c9"
      },
      "source": [
        "\r\n",
        "raw_data = raw_data.drop_duplicates()\r\n",
        "print( raw_data.shape )"
      ],
      "execution_count": null,
      "outputs": [
        {
          "output_type": "stream",
          "text": [
            "(570, 10)\n"
          ],
          "name": "stdout"
        }
      ]
    },
    {
      "cell_type": "markdown",
      "metadata": {
        "id": "XpbVYT_zjXBa"
      },
      "source": [
        "13 duplicates were removed"
      ]
    },
    {
      "cell_type": "code",
      "metadata": {
        "colab": {
          "base_uri": "https://localhost:8080/"
        },
        "id": "EZnB0zpkiAPq",
        "outputId": "7865b71d-65b0-49bb-d6ab-9deb58187b24"
      },
      "source": [
        "X= StandardScaler().fit(x_columns).transform(x_columns)\r\n",
        "X[0:5]"
      ],
      "execution_count": null,
      "outputs": [
        {
          "output_type": "execute_result",
          "data": {
            "text/plain": [
              "array([[ 1.242, -0.419, -0.494, -0.427, -0.351, -0.314,  0.279,  0.19 ,\n",
              "        -0.151],\n",
              "       [ 1.057,  1.21 ,  1.414,  1.662, -0.087, -0.032,  0.923,  0.064,\n",
              "        -0.654],\n",
              "       [ 1.057,  0.635,  0.919,  0.809, -0.109, -0.142,  0.463,  0.19 ,\n",
              "        -0.182],\n",
              "       [ 0.81 , -0.371, -0.388, -0.448, -0.363, -0.308,  0.279,  0.315,\n",
              "         0.163],\n",
              "       [ 1.673,  0.092,  0.177, -0.395, -0.291, -0.173,  0.739, -0.941,\n",
              "        -1.722]])"
            ]
          },
          "metadata": {
            "tags": []
          },
          "execution_count": 358
        }
      ]
    },
    {
      "cell_type": "markdown",
      "metadata": {
        "id": "CbyuD64UgVTE"
      },
      "source": [
        "# Exploratory Data Analysis"
      ]
    },
    {
      "cell_type": "code",
      "metadata": {
        "id": "6KXnHwIrLD97"
      },
      "source": [
        "x_columns = raw_data.iloc[:,0:9]  #independent columns\r\n",
        "y_columns = raw_data.iloc[:,-1]    #target column i.e price range"
      ],
      "execution_count": null,
      "outputs": []
    },
    {
      "cell_type": "code",
      "metadata": {
        "colab": {
          "base_uri": "https://localhost:8080/"
        },
        "id": "ziHmFyVYhv5Q",
        "outputId": "13f7e460-18bc-4b61-9d4c-9430b8450c22"
      },
      "source": [
        "raw_data['Dataset'].value_counts()"
      ],
      "execution_count": null,
      "outputs": [
        {
          "output_type": "execute_result",
          "data": {
            "text/plain": [
              "Yes    406\n",
              "No     164\n",
              "Name: Dataset, dtype: int64"
            ]
          },
          "metadata": {
            "tags": []
          },
          "execution_count": 360
        }
      ]
    },
    {
      "cell_type": "code",
      "metadata": {
        "colab": {
          "base_uri": "https://localhost:8080/",
          "height": 328
        },
        "id": "1Phwnq97gYbk",
        "outputId": "40b69de0-e2d9-4553-bb79-eda013027900"
      },
      "source": [
        "raw_data.describe().T.apply(lambda s: s.apply(lambda x: format(x, 'g')))"
      ],
      "execution_count": null,
      "outputs": [
        {
          "output_type": "execute_result",
          "data": {
            "text/html": [
              "<div>\n",
              "<style scoped>\n",
              "    .dataframe tbody tr th:only-of-type {\n",
              "        vertical-align: middle;\n",
              "    }\n",
              "\n",
              "    .dataframe tbody tr th {\n",
              "        vertical-align: top;\n",
              "    }\n",
              "\n",
              "    .dataframe thead th {\n",
              "        text-align: right;\n",
              "    }\n",
              "</style>\n",
              "<table border=\"1\" class=\"dataframe\">\n",
              "  <thead>\n",
              "    <tr style=\"text-align: right;\">\n",
              "      <th></th>\n",
              "      <th>count</th>\n",
              "      <th>mean</th>\n",
              "      <th>std</th>\n",
              "      <th>min</th>\n",
              "      <th>25%</th>\n",
              "      <th>50%</th>\n",
              "      <th>75%</th>\n",
              "      <th>max</th>\n",
              "    </tr>\n",
              "  </thead>\n",
              "  <tbody>\n",
              "    <tr>\n",
              "      <th>Age</th>\n",
              "      <td>570</td>\n",
              "      <td>44.8491</td>\n",
              "      <td>16.2422</td>\n",
              "      <td>4</td>\n",
              "      <td>33</td>\n",
              "      <td>45</td>\n",
              "      <td>58</td>\n",
              "      <td>90</td>\n",
              "    </tr>\n",
              "    <tr>\n",
              "      <th>Total_Bilirubin</th>\n",
              "      <td>570</td>\n",
              "      <td>3.32175</td>\n",
              "      <td>6.26794</td>\n",
              "      <td>0.4</td>\n",
              "      <td>0.8</td>\n",
              "      <td>1</td>\n",
              "      <td>2.6</td>\n",
              "      <td>75</td>\n",
              "    </tr>\n",
              "    <tr>\n",
              "      <th>Direct_Bilirubin</th>\n",
              "      <td>570</td>\n",
              "      <td>1.49754</td>\n",
              "      <td>2.83323</td>\n",
              "      <td>0.1</td>\n",
              "      <td>0.2</td>\n",
              "      <td>0.3</td>\n",
              "      <td>1.3</td>\n",
              "      <td>19.7</td>\n",
              "    </tr>\n",
              "    <tr>\n",
              "      <th>Alkaline_Phosphotase</th>\n",
              "      <td>570</td>\n",
              "      <td>291.751</td>\n",
              "      <td>245.292</td>\n",
              "      <td>63</td>\n",
              "      <td>176</td>\n",
              "      <td>208</td>\n",
              "      <td>298</td>\n",
              "      <td>2110</td>\n",
              "    </tr>\n",
              "    <tr>\n",
              "      <th>Alamine_Aminotransferase</th>\n",
              "      <td>570</td>\n",
              "      <td>79.7281</td>\n",
              "      <td>181.472</td>\n",
              "      <td>10</td>\n",
              "      <td>23</td>\n",
              "      <td>35</td>\n",
              "      <td>60</td>\n",
              "      <td>2000</td>\n",
              "    </tr>\n",
              "    <tr>\n",
              "      <th>Aspartate_Aminotransferase</th>\n",
              "      <td>570</td>\n",
              "      <td>109.381</td>\n",
              "      <td>290.881</td>\n",
              "      <td>10</td>\n",
              "      <td>25</td>\n",
              "      <td>41</td>\n",
              "      <td>86.75</td>\n",
              "      <td>4929</td>\n",
              "    </tr>\n",
              "    <tr>\n",
              "      <th>Total_Protiens</th>\n",
              "      <td>570</td>\n",
              "      <td>6.49632</td>\n",
              "      <td>1.0883</td>\n",
              "      <td>2.7</td>\n",
              "      <td>5.8</td>\n",
              "      <td>6.6</td>\n",
              "      <td>7.2</td>\n",
              "      <td>9.6</td>\n",
              "    </tr>\n",
              "    <tr>\n",
              "      <th>Albumin</th>\n",
              "      <td>570</td>\n",
              "      <td>3.14895</td>\n",
              "      <td>0.796813</td>\n",
              "      <td>0.9</td>\n",
              "      <td>2.6</td>\n",
              "      <td>3.1</td>\n",
              "      <td>3.8</td>\n",
              "      <td>5.5</td>\n",
              "    </tr>\n",
              "    <tr>\n",
              "      <th>Albumin_and_Globulin_Ratio</th>\n",
              "      <td>570</td>\n",
              "      <td>0.947997</td>\n",
              "      <td>0.31851</td>\n",
              "      <td>0.3</td>\n",
              "      <td>0.7</td>\n",
              "      <td>0.947064</td>\n",
              "      <td>1.1</td>\n",
              "      <td>2.8</td>\n",
              "    </tr>\n",
              "  </tbody>\n",
              "</table>\n",
              "</div>"
            ],
            "text/plain": [
              "                           count      mean       std  ...       50%    75%   max\n",
              "Age                          570   44.8491   16.2422  ...        45     58    90\n",
              "Total_Bilirubin              570   3.32175   6.26794  ...         1    2.6    75\n",
              "Direct_Bilirubin             570   1.49754   2.83323  ...       0.3    1.3  19.7\n",
              "Alkaline_Phosphotase         570   291.751   245.292  ...       208    298  2110\n",
              "Alamine_Aminotransferase     570   79.7281   181.472  ...        35     60  2000\n",
              "Aspartate_Aminotransferase   570   109.381   290.881  ...        41  86.75  4929\n",
              "Total_Protiens               570   6.49632    1.0883  ...       6.6    7.2   9.6\n",
              "Albumin                      570   3.14895  0.796813  ...       3.1    3.8   5.5\n",
              "Albumin_and_Globulin_Ratio   570  0.947997   0.31851  ...  0.947064    1.1   2.8\n",
              "\n",
              "[9 rows x 8 columns]"
            ]
          },
          "metadata": {
            "tags": []
          },
          "execution_count": 361
        }
      ]
    },
    {
      "cell_type": "markdown",
      "metadata": {
        "id": "aMl8Nb9wgjqT"
      },
      "source": [
        "Inferences: \r\n",
        "1. Age looks correct since the mean is 45 with min and max as 4, 90 which indicates there are no outliers.\r\n",
        "2. We can check the boxplot of Total_Bilirubin, Alkaline_Phosphotase, Alamine_Aminotransferase, Aspartate_Aminotransferase for outliers, since the mean value and max value seem to be very far. \r\n",
        "\r\n"
      ]
    },
    {
      "cell_type": "code",
      "metadata": {
        "colab": {
          "base_uri": "https://localhost:8080/",
          "height": 359
        },
        "id": "oinnr_kMrlVE",
        "outputId": "dd5daaaf-dcb0-4f1e-ca1b-6958a62ed1d2"
      },
      "source": [
        "sns.boxplot(raw_data.Total_Bilirubin)"
      ],
      "execution_count": null,
      "outputs": [
        {
          "output_type": "stream",
          "text": [
            "/usr/local/lib/python3.6/dist-packages/seaborn/_decorators.py:43: FutureWarning: Pass the following variable as a keyword arg: x. From version 0.12, the only valid positional argument will be `data`, and passing other arguments without an explicit keyword will result in an error or misinterpretation.\n",
            "  FutureWarning\n"
          ],
          "name": "stderr"
        },
        {
          "output_type": "execute_result",
          "data": {
            "text/plain": [
              "<matplotlib.axes._subplots.AxesSubplot at 0x7fa723161d68>"
            ]
          },
          "metadata": {
            "tags": []
          },
          "execution_count": 362
        },
        {
          "output_type": "display_data",
          "data": {
            "image/png": "[encoded data removed]",
            "text/plain": [
              "<Figure size 432x288 with 1 Axes>"
            ]
          },
          "metadata": {
            "tags": [],
            "needs_background": "light"
          }
        }
      ]
    },
    {
      "cell_type": "code",
      "metadata": {
        "colab": {
          "base_uri": "https://localhost:8080/"
        },
        "id": "yYDi400ur05W",
        "outputId": "47e89b98-a698-40de-8b0e-09006252dd06"
      },
      "source": [
        "\r\n",
        "raw_data.Total_Bilirubin.sort_values(ascending=False).head()"
      ],
      "execution_count": null,
      "outputs": [
        {
          "output_type": "execute_result",
          "data": {
            "text/plain": [
              "166    75.0\n",
              "559    42.8\n",
              "505    32.6\n",
              "531    30.8\n",
              "259    30.5\n",
              "Name: Total_Bilirubin, dtype: float64"
            ]
          },
          "metadata": {
            "tags": []
          },
          "execution_count": 363
        }
      ]
    },
    {
      "cell_type": "code",
      "metadata": {
        "colab": {
          "base_uri": "https://localhost:8080/"
        },
        "id": "1VmyXsKZr8vg",
        "outputId": "6a6c1f0c-3b13-4051-a5d5-07bca989d458"
      },
      "source": [
        "raw_data = raw_data[raw_data.Total_Bilirubin <=50 ]\r\n",
        "raw_data.shape"
      ],
      "execution_count": null,
      "outputs": [
        {
          "output_type": "execute_result",
          "data": {
            "text/plain": [
              "(569, 10)"
            ]
          },
          "metadata": {
            "tags": []
          },
          "execution_count": 364
        }
      ]
    },
    {
      "cell_type": "markdown",
      "metadata": {
        "id": "bfrKrPCisFgC"
      },
      "source": [
        "Removed one outlier"
      ]
    },
    {
      "cell_type": "code",
      "metadata": {
        "colab": {
          "base_uri": "https://localhost:8080/",
          "height": 449
        },
        "id": "DrT_lyxosG9K",
        "outputId": "bcbc39d0-358e-4ed6-fe23-90e7d6c5a755"
      },
      "source": [
        "sns.boxplot(raw_data.Alkaline_Phosphotase)\r\n",
        "raw_data.Alkaline_Phosphotase.sort_values(ascending=False).head()"
      ],
      "execution_count": null,
      "outputs": [
        {
          "output_type": "stream",
          "text": [
            "/usr/local/lib/python3.6/dist-packages/seaborn/_decorators.py:43: FutureWarning: Pass the following variable as a keyword arg: x. From version 0.12, the only valid positional argument will be `data`, and passing other arguments without an explicit keyword will result in an error or misinterpretation.\n",
            "  FutureWarning\n"
          ],
          "name": "stderr"
        },
        {
          "output_type": "execute_result",
          "data": {
            "text/plain": [
              "233    2110\n",
              "128    1896\n",
              "429    1750\n",
              "116    1630\n",
              "77     1620\n",
              "Name: Alkaline_Phosphotase, dtype: int64"
            ]
          },
          "metadata": {
            "tags": []
          },
          "execution_count": 365
        },
        {
          "output_type": "display_data",
          "data": {
            "image/png": "[encoded data removed]",
            "text/plain": [
              "<Figure size 432x288 with 1 Axes>"
            ]
          },
          "metadata": {
            "tags": [],
            "needs_background": "light"
          }
        }
      ]
    },
    {
      "cell_type": "markdown",
      "metadata": {
        "id": "dT75IAPNsSJg"
      },
      "source": [
        "This data does not have outliers\r\n"
      ]
    },
    {
      "cell_type": "code",
      "metadata": {
        "colab": {
          "base_uri": "https://localhost:8080/",
          "height": 449
        },
        "id": "EbZEfJUssVGw",
        "outputId": "ca39ad4d-db80-4d8c-9160-c99a6c7399b7"
      },
      "source": [
        "sns.boxplot(raw_data.Alamine_Aminotransferase)\r\n",
        "raw_data.Alamine_Aminotransferase.sort_values(ascending=False).head()"
      ],
      "execution_count": null,
      "outputs": [
        {
          "output_type": "stream",
          "text": [
            "/usr/local/lib/python3.6/dist-packages/seaborn/_decorators.py:43: FutureWarning: Pass the following variable as a keyword arg: x. From version 0.12, the only valid positional argument will be `data`, and passing other arguments without an explicit keyword will result in an error or misinterpretation.\n",
            "  FutureWarning\n"
          ],
          "name": "stderr"
        },
        {
          "output_type": "execute_result",
          "data": {
            "text/plain": [
              "117    2000\n",
              "27     1680\n",
              "47     1630\n",
              "118    1350\n",
              "119    1250\n",
              "Name: Alamine_Aminotransferase, dtype: int64"
            ]
          },
          "metadata": {
            "tags": []
          },
          "execution_count": 366
        },
        {
          "output_type": "display_data",
          "data": {
            "image/png": "[encoded data removed]",
            "text/plain": [
              "<Figure size 432x288 with 1 Axes>"
            ]
          },
          "metadata": {
            "tags": [],
            "needs_background": "light"
          }
        }
      ]
    },
    {
      "cell_type": "markdown",
      "metadata": {
        "id": "Z0PEV2MisZpA"
      },
      "source": [
        "This data also does not have outliers\r\n"
      ]
    },
    {
      "cell_type": "code",
      "metadata": {
        "colab": {
          "base_uri": "https://localhost:8080/",
          "height": 449
        },
        "id": "simVuwEnsdjB",
        "outputId": "329b6f87-12e2-43a5-ea22-4c3b87898853"
      },
      "source": [
        "sns.boxplot(raw_data.Aspartate_Aminotransferase)\r\n",
        "raw_data.Aspartate_Aminotransferase.sort_values(ascending=False).head()"
      ],
      "execution_count": null,
      "outputs": [
        {
          "output_type": "stream",
          "text": [
            "/usr/local/lib/python3.6/dist-packages/seaborn/_decorators.py:43: FutureWarning: Pass the following variable as a keyword arg: x. From version 0.12, the only valid positional argument will be `data`, and passing other arguments without an explicit keyword will result in an error or misinterpretation.\n",
            "  FutureWarning\n"
          ],
          "name": "stderr"
        },
        {
          "output_type": "execute_result",
          "data": {
            "text/plain": [
              "135    4929\n",
              "117    2946\n",
              "118    1600\n",
              "207    1500\n",
              "199    1050\n",
              "Name: Aspartate_Aminotransferase, dtype: int64"
            ]
          },
          "metadata": {
            "tags": []
          },
          "execution_count": 367
        },
        {
          "output_type": "display_data",
          "data": {
            "image/png": "[encoded data removed]",
            "text/plain": [
              "<Figure size 432x288 with 1 Axes>"
            ]
          },
          "metadata": {
            "tags": [],
            "needs_background": "light"
          }
        }
      ]
    },
    {
      "cell_type": "markdown",
      "metadata": {
        "id": "vRR1N893snPH"
      },
      "source": [
        "Data above 2000 can be treated as outlier\r\n"
      ]
    },
    {
      "cell_type": "code",
      "metadata": {
        "colab": {
          "base_uri": "https://localhost:8080/"
        },
        "id": "PSMiOTZ0slxZ",
        "outputId": "bdba00a8-b555-4bc6-a5a3-c960d5b4e01d"
      },
      "source": [
        "raw_data = raw_data[raw_data.Aspartate_Aminotransferase <=2000 ]\r\n",
        "raw_data.shape"
      ],
      "execution_count": null,
      "outputs": [
        {
          "output_type": "execute_result",
          "data": {
            "text/plain": [
              "(567, 10)"
            ]
          },
          "metadata": {
            "tags": []
          },
          "execution_count": 368
        }
      ]
    },
    {
      "cell_type": "markdown",
      "metadata": {
        "id": "oNHgFonBsxHQ"
      },
      "source": [
        "2 outliers removed\r\n"
      ]
    },
    {
      "cell_type": "markdown",
      "metadata": {
        "id": "j4rkc0BW5ev9"
      },
      "source": [
        "# **Correlation Analysis**"
      ]
    },
    {
      "cell_type": "code",
      "metadata": {
        "colab": {
          "base_uri": "https://localhost:8080/",
          "height": 328
        },
        "id": "YRusURKX5bnL",
        "outputId": "41b5ad9d-3995-447d-e1b8-ed5c6464c5a7"
      },
      "source": [
        "raw_data.corr()"
      ],
      "execution_count": null,
      "outputs": [
        {
          "output_type": "execute_result",
          "data": {
            "text/html": [
              "<div>\n",
              "<style scoped>\n",
              "    .dataframe tbody tr th:only-of-type {\n",
              "        vertical-align: middle;\n",
              "    }\n",
              "\n",
              "    .dataframe tbody tr th {\n",
              "        vertical-align: top;\n",
              "    }\n",
              "\n",
              "    .dataframe thead th {\n",
              "        text-align: right;\n",
              "    }\n",
              "</style>\n",
              "<table border=\"1\" class=\"dataframe\">\n",
              "  <thead>\n",
              "    <tr style=\"text-align: right;\">\n",
              "      <th></th>\n",
              "      <th>Age</th>\n",
              "      <th>Total_Bilirubin</th>\n",
              "      <th>Direct_Bilirubin</th>\n",
              "      <th>Alkaline_Phosphotase</th>\n",
              "      <th>Alamine_Aminotransferase</th>\n",
              "      <th>Aspartate_Aminotransferase</th>\n",
              "      <th>Total_Protiens</th>\n",
              "      <th>Albumin</th>\n",
              "      <th>Albumin_and_Globulin_Ratio</th>\n",
              "    </tr>\n",
              "  </thead>\n",
              "  <tbody>\n",
              "    <tr>\n",
              "      <th>Age</th>\n",
              "      <td>1.000000</td>\n",
              "      <td>-0.002230</td>\n",
              "      <td>0.005252</td>\n",
              "      <td>0.074211</td>\n",
              "      <td>-0.097725</td>\n",
              "      <td>-0.069720</td>\n",
              "      <td>-0.199448</td>\n",
              "      <td>-0.268871</td>\n",
              "      <td>-0.210991</td>\n",
              "    </tr>\n",
              "    <tr>\n",
              "      <th>Total_Bilirubin</th>\n",
              "      <td>-0.002230</td>\n",
              "      <td>1.000000</td>\n",
              "      <td>0.979571</td>\n",
              "      <td>0.227140</td>\n",
              "      <td>0.239857</td>\n",
              "      <td>0.345021</td>\n",
              "      <td>-0.002525</td>\n",
              "      <td>-0.236295</td>\n",
              "      <td>-0.213064</td>\n",
              "    </tr>\n",
              "    <tr>\n",
              "      <th>Direct_Bilirubin</th>\n",
              "      <td>0.005252</td>\n",
              "      <td>0.979571</td>\n",
              "      <td>1.000000</td>\n",
              "      <td>0.230428</td>\n",
              "      <td>0.223878</td>\n",
              "      <td>0.319713</td>\n",
              "      <td>0.000446</td>\n",
              "      <td>-0.229246</td>\n",
              "      <td>-0.201327</td>\n",
              "    </tr>\n",
              "    <tr>\n",
              "      <th>Alkaline_Phosphotase</th>\n",
              "      <td>0.074211</td>\n",
              "      <td>0.227140</td>\n",
              "      <td>0.230428</td>\n",
              "      <td>1.000000</td>\n",
              "      <td>0.113957</td>\n",
              "      <td>0.131314</td>\n",
              "      <td>-0.033550</td>\n",
              "      <td>-0.164296</td>\n",
              "      <td>-0.229860</td>\n",
              "    </tr>\n",
              "    <tr>\n",
              "      <th>Alamine_Aminotransferase</th>\n",
              "      <td>-0.097725</td>\n",
              "      <td>0.239857</td>\n",
              "      <td>0.223878</td>\n",
              "      <td>0.113957</td>\n",
              "      <td>1.000000</td>\n",
              "      <td>0.836077</td>\n",
              "      <td>-0.031534</td>\n",
              "      <td>-0.024718</td>\n",
              "      <td>-0.013491</td>\n",
              "    </tr>\n",
              "    <tr>\n",
              "      <th>Aspartate_Aminotransferase</th>\n",
              "      <td>-0.069720</td>\n",
              "      <td>0.345021</td>\n",
              "      <td>0.319713</td>\n",
              "      <td>0.131314</td>\n",
              "      <td>0.836077</td>\n",
              "      <td>1.000000</td>\n",
              "      <td>-0.038943</td>\n",
              "      <td>-0.103763</td>\n",
              "      <td>-0.086818</td>\n",
              "    </tr>\n",
              "    <tr>\n",
              "      <th>Total_Protiens</th>\n",
              "      <td>-0.199448</td>\n",
              "      <td>-0.002525</td>\n",
              "      <td>0.000446</td>\n",
              "      <td>-0.033550</td>\n",
              "      <td>-0.031534</td>\n",
              "      <td>-0.038943</td>\n",
              "      <td>1.000000</td>\n",
              "      <td>0.787015</td>\n",
              "      <td>0.236704</td>\n",
              "    </tr>\n",
              "    <tr>\n",
              "      <th>Albumin</th>\n",
              "      <td>-0.268871</td>\n",
              "      <td>-0.236295</td>\n",
              "      <td>-0.229246</td>\n",
              "      <td>-0.164296</td>\n",
              "      <td>-0.024718</td>\n",
              "      <td>-0.103763</td>\n",
              "      <td>0.787015</td>\n",
              "      <td>1.000000</td>\n",
              "      <td>0.683420</td>\n",
              "    </tr>\n",
              "    <tr>\n",
              "      <th>Albumin_and_Globulin_Ratio</th>\n",
              "      <td>-0.210991</td>\n",
              "      <td>-0.213064</td>\n",
              "      <td>-0.201327</td>\n",
              "      <td>-0.229860</td>\n",
              "      <td>-0.013491</td>\n",
              "      <td>-0.086818</td>\n",
              "      <td>0.236704</td>\n",
              "      <td>0.683420</td>\n",
              "      <td>1.000000</td>\n",
              "    </tr>\n",
              "  </tbody>\n",
              "</table>\n",
              "</div>"
            ],
            "text/plain": [
              "                                 Age  ...  Albumin_and_Globulin_Ratio\n",
              "Age                         1.000000  ...                   -0.210991\n",
              "Total_Bilirubin            -0.002230  ...                   -0.213064\n",
              "Direct_Bilirubin            0.005252  ...                   -0.201327\n",
              "Alkaline_Phosphotase        0.074211  ...                   -0.229860\n",
              "Alamine_Aminotransferase   -0.097725  ...                   -0.013491\n",
              "Aspartate_Aminotransferase -0.069720  ...                   -0.086818\n",
              "Total_Protiens             -0.199448  ...                    0.236704\n",
              "Albumin                    -0.268871  ...                    0.683420\n",
              "Albumin_and_Globulin_Ratio -0.210991  ...                    1.000000\n",
              "\n",
              "[9 rows x 9 columns]"
            ]
          },
          "metadata": {
            "tags": []
          },
          "execution_count": 369
        }
      ]
    },
    {
      "cell_type": "code",
      "metadata": {
        "colab": {
          "base_uri": "https://localhost:8080/",
          "height": 1000
        },
        "id": "w6nq6YU65lhX",
        "outputId": "d0e205f1-cf5d-4904-ba17-9378fec9979d"
      },
      "source": [
        "sns.set(rc={'figure.figsize':(16,16)})\r\n",
        "sns.heatmap(raw_data.corr(), annot=True)\r\n"
      ],
      "execution_count": null,
      "outputs": [
        {
          "output_type": "execute_result",
          "data": {
            "text/plain": [
              "<matplotlib.axes._subplots.AxesSubplot at 0x7fa71e5a23c8>"
            ]
          },
          "metadata": {
            "tags": []
          },
          "execution_count": 370
        },
        {
          "output_type": "display_data",
          "data": {
            "image/png": "[encoded data removed]",
            "text/plain": [
              "<Figure size 1152x1152 with 2 Axes>"
            ]
          },
          "metadata": {
            "tags": []
          }
        }
      ]
    },
    {
      "cell_type": "markdown",
      "metadata": {
        "id": "jjWx8kzc6fkZ"
      },
      "source": [
        "Result: There is a strong linear co-relation between Total_Billirubin and Direct_Billirubin. So, it is enough to choose any one of this. This can be decided based on Feature Selection.\r\n"
      ]
    },
    {
      "cell_type": "markdown",
      "metadata": {
        "id": "bjJXUaimzSP_"
      },
      "source": [
        "# **Feature Selection**"
      ]
    },
    {
      "cell_type": "code",
      "metadata": {
        "colab": {
          "base_uri": "https://localhost:8080/"
        },
        "id": "-JHNV01ozZ-O",
        "outputId": "638ceb3e-5d54-4676-ae7d-27f0668599c9"
      },
      "source": [
        "selector = SelectKBest(chi2, k=9)\r\n",
        "fit = selector.fit(x_columns, y_columns)\r\n",
        "dfscores = pd.DataFrame(fit.scores_)\r\n",
        "dfcolumns = pd.DataFrame(x_columns.columns)\r\n",
        "#concat two dataframes for better visualization \r\n",
        "featureScores = pd.concat([dfcolumns,dfscores],axis=1)\r\n",
        "featureScores.columns = ['Specs','Score']\r\n",
        "print(featureScores.nlargest(9,'Score'))"
      ],
      "execution_count": null,
      "outputs": [
        {
          "output_type": "stream",
          "text": [
            "                        Specs         Score\n",
            "5  Aspartate_Aminotransferase  10049.260383\n",
            "4    Alamine_Aminotransferase   6161.766880\n",
            "3        Alkaline_Phosphotase   4128.059518\n",
            "1             Total_Bilirubin    338.965314\n",
            "2            Direct_Bilirubin    191.641162\n",
            "0                         Age     63.825103\n",
            "7                     Albumin      3.193261\n",
            "8  Albumin_and_Globulin_Ratio      1.770587\n",
            "6              Total_Protiens      0.148182\n"
          ],
          "name": "stdout"
        }
      ]
    },
    {
      "cell_type": "markdown",
      "metadata": {
        "id": "W-AgwIAW5TkN"
      },
      "source": [
        "We choose the features = Aspartate_Aminotransferase  , Alamine_Aminotransferase , Alkaline_Phosphotase   , Total_Bilirubin    , Direct_Bilirubin    , Age\r\n"
      ]
    },
    {
      "cell_type": "markdown",
      "metadata": {
        "id": "9MQZH6Yv6vpv"
      },
      "source": [
        "Since, we inferred from Correlation Analysis that Total_Bilirubin and Direct_Bilirubin are strongly correlated, we ignore Direct_Bilirubin here. "
      ]
    },
    {
      "cell_type": "markdown",
      "metadata": {
        "id": "NNscxEG1NAwf"
      },
      "source": [
        "**Final Feature List** - Aspartate_Aminotransferase , Alamine_Aminotransferase , Alkaline_Phosphotase , Total_Bilirubin , Age"
      ]
    },
    {
      "cell_type": "code",
      "metadata": {
        "id": "SYJPHtJ-5eJJ"
      },
      "source": [
        ""
      ],
      "execution_count": null,
      "outputs": []
    },
    {
      "cell_type": "markdown",
      "metadata": {
        "id": "sFWT7s1htx5L"
      },
      "source": [
        "# **Machine Learning Models**\r\n"
      ]
    },
    {
      "cell_type": "code",
      "metadata": {
        "colab": {
          "base_uri": "https://localhost:8080/"
        },
        "id": "2HvKEhRZt1PK",
        "outputId": "c967f93c-14e2-4ca8-b2d5-ff325425ba4e"
      },
      "source": [
        "# Create separate object for target variable\r\n",
        "y = raw_data.Dataset\r\n",
        "\r\n",
        "# Create separate object for input features\r\n",
        "X = raw_data[['Alkaline_Phosphotase','Alamine_Aminotransferase','Age','Aspartate_Aminotransferase','Total_Bilirubin']]\r\n",
        "print(X.head())"
      ],
      "execution_count": null,
      "outputs": [
        {
          "output_type": "stream",
          "text": [
            "   Alkaline_Phosphotase  ...  Total_Bilirubin\n",
            "0                   187  ...              0.7\n",
            "1                   699  ...             10.9\n",
            "2                   490  ...              7.3\n",
            "3                   182  ...              1.0\n",
            "4                   195  ...              3.9\n",
            "\n",
            "[5 rows x 5 columns]\n"
          ],
          "name": "stdout"
        }
      ]
    },
    {
      "cell_type": "code",
      "metadata": {
        "id": "5pC4rsf6t4K7"
      },
      "source": [
        "X_train, X_test, y_train, y_test = train_test_split(X, y, \r\n",
        "                                                    test_size=0.2, \r\n",
        "                                                    random_state=1234,\r\n",
        "                                                    stratify=raw_data.Dataset)"
      ],
      "execution_count": null,
      "outputs": []
    },
    {
      "cell_type": "code",
      "metadata": {
        "colab": {
          "base_uri": "https://localhost:8080/"
        },
        "id": "2zKZa42at9WS",
        "outputId": "99d11e0f-0f53-49cf-df58-09152d9ce293"
      },
      "source": [
        "# Print number of observations in X_train, X_test, y_train, and y_test\r\n",
        "print(X_train.shape, X_test.shape, y_train.shape, y_test.shape)"
      ],
      "execution_count": null,
      "outputs": [
        {
          "output_type": "stream",
          "text": [
            "(453, 5) (114, 5) (453,) (114,)\n"
          ],
          "name": "stdout"
        }
      ]
    },
    {
      "cell_type": "code",
      "metadata": {
        "id": "4LNJ9ekCuB3C"
      },
      "source": [
        "train_mean = X_train.mean()\r\n",
        "train_std = X_train.std()"
      ],
      "execution_count": null,
      "outputs": []
    },
    {
      "cell_type": "code",
      "metadata": {
        "id": "Ee0NL5vnuH77"
      },
      "source": [
        "## Standardize the train data set\r\n",
        "X_train = (X_train - train_mean) / train_std"
      ],
      "execution_count": null,
      "outputs": []
    },
    {
      "cell_type": "code",
      "metadata": {
        "colab": {
          "base_uri": "https://localhost:8080/",
          "height": 297
        },
        "id": "TvQ6aYlPuLkM",
        "outputId": "bcb0799f-8a19-4a43-80fb-79bd5623418b"
      },
      "source": [
        "## Note: We use train_mean and train_std_dev to standardize test data set\r\n",
        "X_test = (X_test - train_mean) / train_std\r\n",
        "X_test.describe()"
      ],
      "execution_count": null,
      "outputs": [
        {
          "output_type": "execute_result",
          "data": {
            "text/html": [
              "<div>\n",
              "<style scoped>\n",
              "    .dataframe tbody tr th:only-of-type {\n",
              "        vertical-align: middle;\n",
              "    }\n",
              "\n",
              "    .dataframe tbody tr th {\n",
              "        vertical-align: top;\n",
              "    }\n",
              "\n",
              "    .dataframe thead th {\n",
              "        text-align: right;\n",
              "    }\n",
              "</style>\n",
              "<table border=\"1\" class=\"dataframe\">\n",
              "  <thead>\n",
              "    <tr style=\"text-align: right;\">\n",
              "      <th></th>\n",
              "      <th>Alkaline_Phosphotase</th>\n",
              "      <th>Alamine_Aminotransferase</th>\n",
              "      <th>Age</th>\n",
              "      <th>Aspartate_Aminotransferase</th>\n",
              "      <th>Total_Bilirubin</th>\n",
              "    </tr>\n",
              "  </thead>\n",
              "  <tbody>\n",
              "    <tr>\n",
              "      <th>count</th>\n",
              "      <td>114.000000</td>\n",
              "      <td>114.000000</td>\n",
              "      <td>114.000000</td>\n",
              "      <td>114.000000</td>\n",
              "      <td>114.000000</td>\n",
              "    </tr>\n",
              "    <tr>\n",
              "      <th>mean</th>\n",
              "      <td>0.085689</td>\n",
              "      <td>0.044212</td>\n",
              "      <td>0.148280</td>\n",
              "      <td>0.143795</td>\n",
              "      <td>0.095370</td>\n",
              "    </tr>\n",
              "    <tr>\n",
              "      <th>std</th>\n",
              "      <td>0.964037</td>\n",
              "      <td>0.848594</td>\n",
              "      <td>1.006989</td>\n",
              "      <td>1.104973</td>\n",
              "      <td>1.189621</td>\n",
              "    </tr>\n",
              "    <tr>\n",
              "      <th>min</th>\n",
              "      <td>-0.799808</td>\n",
              "      <td>-0.380719</td>\n",
              "      <td>-2.364902</td>\n",
              "      <td>-0.475858</td>\n",
              "      <td>-0.467016</td>\n",
              "    </tr>\n",
              "    <tr>\n",
              "      <th>25%</th>\n",
              "      <td>-0.411489</td>\n",
              "      <td>-0.324478</td>\n",
              "      <td>-0.637495</td>\n",
              "      <td>-0.392675</td>\n",
              "      <td>-0.429102</td>\n",
              "    </tr>\n",
              "    <tr>\n",
              "      <th>50%</th>\n",
              "      <td>-0.282049</td>\n",
              "      <td>-0.233868</td>\n",
              "      <td>0.226208</td>\n",
              "      <td>-0.294637</td>\n",
              "      <td>-0.391188</td>\n",
              "    </tr>\n",
              "    <tr>\n",
              "      <th>75%</th>\n",
              "      <td>0.081809</td>\n",
              "      <td>-0.049523</td>\n",
              "      <td>0.966525</td>\n",
              "      <td>0.100484</td>\n",
              "      <td>-0.068922</td>\n",
              "    </tr>\n",
              "    <tr>\n",
              "      <th>max</th>\n",
              "      <td>5.152380</td>\n",
              "      <td>5.012158</td>\n",
              "      <td>1.891922</td>\n",
              "      <td>5.697533</td>\n",
              "      <td>5.201072</td>\n",
              "    </tr>\n",
              "  </tbody>\n",
              "</table>\n",
              "</div>"
            ],
            "text/plain": [
              "       Alkaline_Phosphotase  ...  Total_Bilirubin\n",
              "count            114.000000  ...       114.000000\n",
              "mean               0.085689  ...         0.095370\n",
              "std                0.964037  ...         1.189621\n",
              "min               -0.799808  ...        -0.467016\n",
              "25%               -0.411489  ...        -0.429102\n",
              "50%               -0.282049  ...        -0.391188\n",
              "75%                0.081809  ...        -0.068922\n",
              "max                5.152380  ...         5.201072\n",
              "\n",
              "[8 rows x 5 columns]"
            ]
          },
          "metadata": {
            "tags": []
          },
          "execution_count": 378
        }
      ]
    },
    {
      "cell_type": "code",
      "metadata": {
        "colab": {
          "base_uri": "https://localhost:8080/"
        },
        "id": "EtgqnoUBuPrs",
        "outputId": "c4815ca6-1df3-4bd5-86fc-32273bba246c"
      },
      "source": [
        "tuned_params = {'n_estimators': [100, 200, 300, 400, 500], 'min_samples_split': [2, 5, 10], 'min_samples_leaf': [1, 2, 4]}\r\n",
        "model = RandomizedSearchCV(RandomForestClassifier(), tuned_params, n_iter=15, scoring = 'roc_auc', n_jobs=-1)\r\n",
        "model.fit(X_train, y_train)"
      ],
      "execution_count": null,
      "outputs": [
        {
          "output_type": "execute_result",
          "data": {
            "text/plain": [
              "RandomizedSearchCV(cv=None, error_score=nan,\n",
              "                   estimator=RandomForestClassifier(bootstrap=True,\n",
              "                                                    ccp_alpha=0.0,\n",
              "                                                    class_weight=None,\n",
              "                                                    criterion='gini',\n",
              "                                                    max_depth=None,\n",
              "                                                    max_features='auto',\n",
              "                                                    max_leaf_nodes=None,\n",
              "                                                    max_samples=None,\n",
              "                                                    min_impurity_decrease=0.0,\n",
              "                                                    min_impurity_split=None,\n",
              "                                                    min_samples_leaf=1,\n",
              "                                                    min_samples_split=2,\n",
              "                                                    min_weight_fraction_leaf=0.0,\n",
              "                                                    n_estimators=100,\n",
              "                                                    n_jobs=None,\n",
              "                                                    oob_score=False,\n",
              "                                                    random_state=None,\n",
              "                                                    verbose=0,\n",
              "                                                    warm_start=False),\n",
              "                   iid='deprecated', n_iter=15, n_jobs=-1,\n",
              "                   param_distributions={'min_samples_leaf': [1, 2, 4],\n",
              "                                        'min_samples_split': [2, 5, 10],\n",
              "                                        'n_estimators': [100, 200, 300, 400,\n",
              "                                                         500]},\n",
              "                   pre_dispatch='2*n_jobs', random_state=None, refit=True,\n",
              "                   return_train_score=False, scoring='roc_auc', verbose=0)"
            ]
          },
          "metadata": {
            "tags": []
          },
          "execution_count": 379
        }
      ]
    },
    {
      "cell_type": "code",
      "metadata": {
        "colab": {
          "base_uri": "https://localhost:8080/"
        },
        "id": "zGetv6uEujMi",
        "outputId": "5e1de2af-47d5-4efc-c585-c84d03aa6e17"
      },
      "source": [
        "model.best_estimator_"
      ],
      "execution_count": null,
      "outputs": [
        {
          "output_type": "execute_result",
          "data": {
            "text/plain": [
              "RandomForestClassifier(bootstrap=True, ccp_alpha=0.0, class_weight=None,\n",
              "                       criterion='gini', max_depth=None, max_features='auto',\n",
              "                       max_leaf_nodes=None, max_samples=None,\n",
              "                       min_impurity_decrease=0.0, min_impurity_split=None,\n",
              "                       min_samples_leaf=1, min_samples_split=10,\n",
              "                       min_weight_fraction_leaf=0.0, n_estimators=100,\n",
              "                       n_jobs=None, oob_score=False, random_state=None,\n",
              "                       verbose=0, warm_start=False)"
            ]
          },
          "metadata": {
            "tags": []
          },
          "execution_count": 380
        }
      ]
    },
    {
      "cell_type": "code",
      "metadata": {
        "id": "eV4a5BJRu50m"
      },
      "source": [
        "y_train_pred = model.predict(X_train)"
      ],
      "execution_count": null,
      "outputs": []
    },
    {
      "cell_type": "code",
      "metadata": {
        "id": "1RaISDkcu793"
      },
      "source": [
        "y_pred = model.predict(X_test)"
      ],
      "execution_count": null,
      "outputs": []
    },
    {
      "cell_type": "code",
      "metadata": {
        "colab": {
          "base_uri": "https://localhost:8080/"
        },
        "id": "ZWcLULlUvDeq",
        "outputId": "0f754e37-898c-466e-ba14-c0cb15c6a55a"
      },
      "source": [
        "confusion_matrix(y_test, y_pred).T"
      ],
      "execution_count": null,
      "outputs": [
        {
          "output_type": "execute_result",
          "data": {
            "text/plain": [
              "array([[13,  6],\n",
              "       [20, 75]])"
            ]
          },
          "metadata": {
            "tags": []
          },
          "execution_count": 383
        }
      ]
    },
    {
      "cell_type": "markdown",
      "metadata": {
        "id": "VX-1qwYxwS4q"
      },
      "source": [
        "**Order of importance for features**"
      ]
    },
    {
      "cell_type": "code",
      "metadata": {
        "colab": {
          "base_uri": "https://localhost:8080/"
        },
        "id": "-w4wPp3_xVF_",
        "outputId": "243f887e-596f-4f56-cfce-19fdc66ffa88"
      },
      "source": [
        "model = RandomForestClassifier(n_estimators=500, min_samples_split=2, min_samples_leaf=4)\r\n",
        "model.fit(X_train, y_train)"
      ],
      "execution_count": null,
      "outputs": [
        {
          "output_type": "execute_result",
          "data": {
            "text/plain": [
              "RandomForestClassifier(bootstrap=True, ccp_alpha=0.0, class_weight=None,\n",
              "                       criterion='gini', max_depth=None, max_features='auto',\n",
              "                       max_leaf_nodes=None, max_samples=None,\n",
              "                       min_impurity_decrease=0.0, min_impurity_split=None,\n",
              "                       min_samples_leaf=4, min_samples_split=2,\n",
              "                       min_weight_fraction_leaf=0.0, n_estimators=500,\n",
              "                       n_jobs=None, oob_score=False, random_state=None,\n",
              "                       verbose=0, warm_start=False)"
            ]
          },
          "metadata": {
            "tags": []
          },
          "execution_count": 384
        }
      ]
    },
    {
      "cell_type": "code",
      "metadata": {
        "colab": {
          "base_uri": "https://localhost:8080/"
        },
        "id": "UIGIVYEovkcc",
        "outputId": "86408808-53d5-49dc-8751-928a97d1b9d3"
      },
      "source": [
        "indices = np.argsort(-model.feature_importances_)\r\n",
        "print(\"The features in order of importance are:\")\r\n",
        "print(50*'-')\r\n",
        "for feature in X.columns[indices]:\r\n",
        "    print(feature)"
      ],
      "execution_count": null,
      "outputs": [
        {
          "output_type": "stream",
          "text": [
            "The features in order of importance are:\n",
            "--------------------------------------------------\n",
            "Alamine_Aminotransferase\n",
            "Alkaline_Phosphotase\n",
            "Total_Bilirubin\n",
            "Age\n",
            "Aspartate_Aminotransferase\n"
          ],
          "name": "stdout"
        }
      ]
    },
    {
      "cell_type": "code",
      "metadata": {
        "colab": {
          "base_uri": "https://localhost:8080/"
        },
        "id": "9TZJYJIlvmlz",
        "outputId": "fcfae647-0c07-4204-e75a-40aa05aae50f"
      },
      "source": [
        "accuracy=accuracy_score(y_test,y_pred)\r\n",
        "print(accuracy)"
      ],
      "execution_count": null,
      "outputs": [
        {
          "output_type": "stream",
          "text": [
            "0.7719298245614035\n"
          ],
          "name": "stdout"
        }
      ]
    },
    {
      "cell_type": "markdown",
      "metadata": {
        "id": "nvUapgoWwAgz"
      },
      "source": [
        "***Result - 77% accuracy for Random Forest model ***"
      ]
    },
    {
      "cell_type": "code",
      "metadata": {
        "id": "r6Db0sBwwFoM"
      },
      "source": [
        ""
      ],
      "execution_count": null,
      "outputs": []
    }
  ]
}